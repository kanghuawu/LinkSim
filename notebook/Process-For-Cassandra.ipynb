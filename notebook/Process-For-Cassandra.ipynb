{
 "cells": [
  {
   "cell_type": "code",
   "execution_count": 1,
   "metadata": {},
   "outputs": [],
   "source": [
    "import pyspark_cassandra"
   ]
  },
  {
   "cell_type": "code",
   "execution_count": 2,
   "metadata": {},
   "outputs": [],
   "source": [
    "from pyspark.sql.types import *"
   ]
  },
  {
   "cell_type": "code",
   "execution_count": 3,
   "metadata": {},
   "outputs": [],
   "source": [
    "event = StructType([\n",
    "    StructField('event_id', StringType(), True),\n",
    "    StructField('event_name', StringType(), True),\n",
    "    StructField('event_url', StringType(), True),\n",
    "    StructField('time', LongType(), True)\n",
    "])\n",
    "group_topics = ArrayType(StructType([\n",
    "    StructField('urlkey', StringType(), True),\n",
    "    StructField('topic_name', StringType(), True)\n",
    "]))\n",
    "group = StructType([\n",
    "    StructField('group_city', StringType(), True),\n",
    "    StructField('group_country', StringType(), True),\n",
    "    StructField('group_id', IntegerType(), True),\n",
    "    StructField('group_name', StringType(), True),\n",
    "    StructField('group_lon', FloatType(), True),\n",
    "    StructField('group_lat', FloatType(), True),\n",
    "    StructField('group_urlname', StringType(), True),\n",
    "    StructField('group_state', StringType(), True),\n",
    "    StructField('group_topics', group_topics, True)\n",
    "])\n",
    "venue = StructType([\n",
    "    StructField('venue_name', StringType(), True),\n",
    "    StructField('lon', FloatType(), True),\n",
    "    StructField('lat', FloatType(), True),\n",
    "    StructField('venue_id', IntegerType(), True),\n",
    "])\n",
    "member = StructType([\n",
    "    StructField('member_id', IntegerType(), True),\n",
    "    StructField('photo', StringType(), True),\n",
    "    StructField('member_name', StringType(), True),\n",
    "])\n",
    "schema = StructType([\n",
    "    StructField('event', event, True),\n",
    "    StructField('group', group, True),\n",
    "    StructField('venue', venue, True),\n",
    "    StructField('visibility', StringType(), True),\n",
    "    StructField('response', StringType(), True),\n",
    "    StructField('guests', IntegerType(), True),\n",
    "    StructField('member', member, True),\n",
    "    StructField('rsvp_id', LongType(), True),\n",
    "    StructField('mtime', LongType(), True)\n",
    "])"
   ]
  },
  {
   "cell_type": "code",
   "execution_count": 4,
   "metadata": {},
   "outputs": [],
   "source": [
    "df = spark.read.json('file:///home/bondk/Data/2018-03-29_061608.json', schema)"
   ]
  },
  {
   "cell_type": "code",
   "execution_count": 5,
   "metadata": {},
   "outputs": [
    {
     "name": "stdout",
     "output_type": "stream",
     "text": [
      "root\n",
      " |-- event: struct (nullable = true)\n",
      " |    |-- event_id: string (nullable = true)\n",
      " |    |-- event_name: string (nullable = true)\n",
      " |    |-- event_url: string (nullable = true)\n",
      " |    |-- time: long (nullable = true)\n",
      " |-- group: struct (nullable = true)\n",
      " |    |-- group_city: string (nullable = true)\n",
      " |    |-- group_country: string (nullable = true)\n",
      " |    |-- group_id: integer (nullable = true)\n",
      " |    |-- group_name: string (nullable = true)\n",
      " |    |-- group_lon: float (nullable = true)\n",
      " |    |-- group_lat: float (nullable = true)\n",
      " |    |-- group_urlname: string (nullable = true)\n",
      " |    |-- group_state: string (nullable = true)\n",
      " |    |-- group_topics: array (nullable = true)\n",
      " |    |    |-- element: struct (containsNull = true)\n",
      " |    |    |    |-- urlkey: string (nullable = true)\n",
      " |    |    |    |-- topic_name: string (nullable = true)\n",
      " |-- venue: struct (nullable = true)\n",
      " |    |-- venue_name: string (nullable = true)\n",
      " |    |-- lon: float (nullable = true)\n",
      " |    |-- lat: float (nullable = true)\n",
      " |    |-- venue_id: integer (nullable = true)\n",
      " |-- visibility: string (nullable = true)\n",
      " |-- response: string (nullable = true)\n",
      " |-- guests: integer (nullable = true)\n",
      " |-- member: struct (nullable = true)\n",
      " |    |-- member_id: integer (nullable = true)\n",
      " |    |-- photo: string (nullable = true)\n",
      " |    |-- member_name: string (nullable = true)\n",
      " |-- rsvp_id: long (nullable = true)\n",
      " |-- mtime: long (nullable = true)\n",
      "\n"
     ]
    }
   ],
   "source": [
    "df.printSchema()"
   ]
  },
  {
   "cell_type": "code",
   "execution_count": 6,
   "metadata": {},
   "outputs": [],
   "source": [
    "from datetime import datetime\n",
    "import pytz"
   ]
  },
  {
   "cell_type": "markdown",
   "metadata": {},
   "source": [
    "```sql\n",
    "CREATE TABLE IF NOT EXISTS meetup_analysis.world_stat_by_date (\n",
    "    mdate date,\n",
    "    group_country text,\n",
    "    group_city text,\n",
    "    event_name text,\n",
    "    event_id text,\n",
    "    event_time timestamp,\n",
    "    venue_name text,\n",
    "    count int,\n",
    "    event_url text,\n",
    "    lon float,\n",
    "    lat float,\n",
    "    topics set<text>,\n",
    "PRIMARY KEY ((mdate), count, group_country, event_id));\n",
    "```"
   ]
  },
  {
   "cell_type": "code",
   "execution_count": 7,
   "metadata": {},
   "outputs": [
    {
     "name": "stdout",
     "output_type": "stream",
     "text": [
      "root\n",
      " |-- mtime: long (nullable = true)\n",
      " |-- group_country: string (nullable = true)\n",
      " |-- group_city: string (nullable = true)\n",
      " |-- event_name: string (nullable = true)\n",
      " |-- event_id: string (nullable = true)\n",
      " |-- time: long (nullable = true)\n",
      " |-- venue_name: string (nullable = true)\n",
      " |-- event_url: string (nullable = true)\n",
      " |-- lon: float (nullable = true)\n",
      " |-- lat: float (nullable = true)\n",
      " |-- group_topics: array (nullable = true)\n",
      " |    |-- element: struct (containsNull = true)\n",
      " |    |    |-- urlkey: string (nullable = true)\n",
      " |    |    |-- topic_name: string (nullable = true)\n",
      "\n"
     ]
    }
   ],
   "source": [
    "selected_country_df = df.select('mtime', 'group.group_country', 'group.group_city', \n",
    "                             'event.event_name', 'event.event_id', 'event.time',\n",
    "                             'venue.venue_name', 'event.event_url', 'venue.lon', 'venue.lat', \n",
    "                             'group.group_topics') \\\n",
    "    .where((df.visibility == 'public') & (df.response == 'yes'))\n",
    "selected_country_df.printSchema()"
   ]
  },
  {
   "cell_type": "code",
   "execution_count": 8,
   "metadata": {},
   "outputs": [],
   "source": [
    "from pyspark.sql.functions import *\n",
    "import pytz"
   ]
  },
  {
   "cell_type": "code",
   "execution_count": 9,
   "metadata": {},
   "outputs": [],
   "source": [
    "def parse_date(unix_time):\n",
    "    if unix_time:\n",
    "        return datetime.fromtimestamp(unix_time/1000, tz=pytz.utc).date()\n",
    "\n",
    "def parse_time(unix_time):\n",
    "    if unix_time:\n",
    "        return datetime.fromtimestamp(unix_time/1000, tz=pytz.utc)\n",
    "    \n",
    "def merge_topics(arr):\n",
    "    res = []\n",
    "    for topic in arr:\n",
    "        res.append(topic.asDict()['topic_name'])\n",
    "    return res\n",
    "\n",
    "parse_date_udf = udf(parse_date, DateType())\n",
    "parse_time_udf = udf(parse_time, TimestampType())\n",
    "merge_topics_udf = udf(merge_topics, ArrayType(StringType()))"
   ]
  },
  {
   "cell_type": "code",
   "execution_count": 10,
   "metadata": {},
   "outputs": [
    {
     "name": "stdout",
     "output_type": "stream",
     "text": [
      "+----------+-------------+----------+--------------------+------------+-------------------+--------------------+--------------------+----------+---------+--------------------+\n",
      "|     mdate|group_country|group_city|          event_name|    event_id|         event_time|          venue_name|           event_url|       lon|      lat|              topics|\n",
      "+----------+-------------+----------+--------------------+------------+-------------------+--------------------+--------------------+----------+---------+--------------------+\n",
      "|2018-03-29|           us|  New York|NOTE - @IBM Atriu...|   249212630|2018-04-07 11:00:00|          IBM ATRIUM|https://www.meetu...|    -73.97|    40.76|[Intellectual Dis...|\n",
      "|2018-03-29|           us| Las Vegas|Free Business Net...|   244917823|2018-04-05 18:30:00|Community Room at...|https://www.meetu...|-115.24644| 36.06594|[Network Marketin...|\n",
      "|2018-03-29|           us|    Irvine|Deerfield Park Sa...|fhfvkpyxfbmc|2018-03-29 16:00:00|Deerfield Communi...|https://www.meetu...|-117.79306|33.690163|[Women's Fitness,...|\n",
      "|2018-03-29|           us|  New York|NOTE - @IBM Atriu...|   249212630|2018-04-07 11:00:00|          IBM ATRIUM|https://www.meetu...|    -73.97|    40.76|[Intellectual Dis...|\n",
      "|2018-03-29|           us| Charlotte|Rencontre mensuel...|mqfqlpyxgbpb|2018-04-11 08:00:00|      Central Coffee|https://www.meetu...|-80.858246|35.213608|[French Language,...|\n",
      "|2018-03-29|           gb|    London|Brockwell Park No...|mxqbzlyxfbnc|2018-03-30 02:00:00|the Black Bird Ba...|https://www.meetu...| -0.102647| 51.45297|[Fitness, Hiking,...|\n",
      "|2018-03-29|           ca|   Burnaby|$22 Golf Clinics ...|qzkhglyxgbfb|2018-04-03 19:00:00|Burnaby Mountain ...|https://www.meetu...| -122.9447| 49.26741|[Golf For Beginne...|\n",
      "|2018-03-29|           nl| Amsterdam|Digital Maturity ...|   241588358|2018-06-01 07:00:00|       3D Makerszone|https://www.meetu...|   4.65766| 52.38476|[Business Leaders...|\n",
      "|2018-03-29|           us| Las Vegas|Free Business Net...|   244917823|2018-04-05 18:30:00|Community Room at...|https://www.meetu...|-115.24644| 36.06594|[Network Marketin...|\n",
      "|2018-03-29|           us| Charlotte|Rencontre mensuel...|mqfqlpyxgbpb|2018-04-11 08:00:00|      Central Coffee|https://www.meetu...|-80.858246|35.213608|[French Language,...|\n",
      "|2018-03-29|           gb|    London|A​ ​craftsman’s​ ...|   249169443|2018-04-19 09:00:00|                null|https://www.meetu...|      null|     null|[Distributed Prog...|\n",
      "|2018-03-29|           us| Bethlehem|Vegetarian/Vegan ...|   249207172|2018-04-13 15:30:00|Aman's Indian Bistro|https://www.meetu...| -75.28892|40.718456|[Vegetarian, Vega...|\n",
      "|2018-03-29|           us|    Irvine|OC Python - Multi...|xrqfvnyxgbfb|2018-04-03 19:00:00|         PeopleSpace|https://www.meetu...|-117.84684| 33.69797|[Software Develop...|\n",
      "|2018-03-29|           kr|     Seoul|1 on 1 Talk and M...|pfksgmyxfbpc|2018-03-31 00:00:00|                null|https://www.meetu...|      null|     null|[English as a Sec...|\n",
      "|2018-03-29|           nl| Amsterdam|Digital Maturity ...|   241588358|2018-06-01 07:00:00|       3D Makerszone|https://www.meetu...|   4.65766| 52.38476|[Business Leaders...|\n",
      "|2018-03-29|           us|    Austin|Sundays RSVP to g...|vhlrnlyxgbcb|2018-04-01 14:00:00|                null|https://www.meetu...|      null|     null|[Meditation, Dini...|\n",
      "|2018-03-29|           us|   Atlanta|International Pil...|   248225520|2018-04-07 11:00:00|          Grant Park|https://www.meetu...| -84.37354|33.741592|[Outdoors, Outdoo...|\n",
      "|2018-03-29|           us|   Atlanta|International Pil...|   248225520|2018-04-07 11:00:00|          Grant Park|https://www.meetu...| -84.37354|33.741592|[Outdoors, Outdoo...|\n",
      "|2018-03-29|           sg| Singapore|Newbies Gathering...|   248924008|2018-03-29 04:00:00|Brotzeit German B...|https://www.meetu...| 103.83842| 1.300996|[Fun Times, Socia...|\n",
      "|2018-03-29|           gb|   Bristol|Quiz Night at the...|cfglkpyxgbxb|2018-04-18 11:15:00|   The Stallards Inn|https://www.meetu...|  -2.21481|51.318302|[Singles, Explori...|\n",
      "+----------+-------------+----------+--------------------+------------+-------------------+--------------------+--------------------+----------+---------+--------------------+\n",
      "only showing top 20 rows\n",
      "\n"
     ]
    }
   ],
   "source": [
    "country_df = selected_country_df \\\n",
    "    .withColumn('time', parse_time_udf(selected_country_df.time)) \\\n",
    "    .withColumnRenamed('time', 'event_time') \\\n",
    "    .withColumn('mtime', parse_date_udf(selected_country_df.mtime)) \\\n",
    "    .withColumnRenamed('mtime', 'mdate') \\\n",
    "    .filter(\"mdate = cast('2018-03-29' as DATE)\") \\\n",
    "    .withColumn('group_topics', merge_topics_udf(selected_country_df.group_topics)) \\\n",
    "    .withColumnRenamed('group_topics', 'topics')\n",
    "    \n",
    "country_df.show()"
   ]
  },
  {
   "cell_type": "code",
   "execution_count": 11,
   "metadata": {
    "scrolled": true
   },
   "outputs": [
    {
     "name": "stdout",
     "output_type": "stream",
     "text": [
      "root\n",
      " |-- mdate: date (nullable = true)\n",
      " |-- group_country: string (nullable = true)\n",
      " |-- group_city: string (nullable = true)\n",
      " |-- event_name: string (nullable = true)\n",
      " |-- event_id: string (nullable = true)\n",
      " |-- event_time: timestamp (nullable = true)\n",
      " |-- venue_name: string (nullable = true)\n",
      " |-- event_url: string (nullable = true)\n",
      " |-- lon: float (nullable = true)\n",
      " |-- lat: float (nullable = true)\n",
      " |-- topics: array (nullable = true)\n",
      " |    |-- element: string (containsNull = true)\n",
      "\n"
     ]
    }
   ],
   "source": [
    "country_df.printSchema()"
   ]
  },
  {
   "cell_type": "code",
   "execution_count": 12,
   "metadata": {},
   "outputs": [
    {
     "name": "stdout",
     "output_type": "stream",
     "text": [
      "+-------------+-----+\n",
      "|group_country|count|\n",
      "+-------------+-----+\n",
      "|           cr|    3|\n",
      "|           us|39501|\n",
      "|           eg|   29|\n",
      "|           ge|    6|\n",
      "|           il|  554|\n",
      "|           cl|  256|\n",
      "|           ro|  152|\n",
      "|           ba|    4|\n",
      "|           jp| 1035|\n",
      "|           kw|    3|\n",
      "|           by|    7|\n",
      "|           lv|   12|\n",
      "|           vn|   60|\n",
      "|           pl|  937|\n",
      "|           cn|  160|\n",
      "|           za|  366|\n",
      "|           sk|   13|\n",
      "|           bd|   41|\n",
      "|           mu|    2|\n",
      "|           pt|  272|\n",
      "+-------------+-----+\n",
      "only showing top 20 rows\n",
      "\n"
     ]
    }
   ],
   "source": [
    "country_total = country_df.groupBy('group_country').count()\n",
    "\n",
    "country_total.show()"
   ]
  },
  {
   "cell_type": "code",
   "execution_count": 13,
   "metadata": {},
   "outputs": [
    {
     "name": "stdout",
     "output_type": "stream",
     "text": [
      "+-------------+------------+-----+\n",
      "|group_country|    event_id|count|\n",
      "+-------------+------------+-----+\n",
      "|           hk|   248347178|    2|\n",
      "|           au|   247693201|    6|\n",
      "|           au|   249217975|    3|\n",
      "|           au|   249212482|    2|\n",
      "|           us|   248782765|    1|\n",
      "|           fr|   249219252|    3|\n",
      "|           us|   248624894|    1|\n",
      "|           us|   249164453|    1|\n",
      "|           gb|   249202007|    1|\n",
      "|           gb|jfbvcpyxjbnc|    2|\n",
      "|           il|   249148989|   24|\n",
      "|           in|jfzfkpyxfbmc|    2|\n",
      "|           in|   248665498|    1|\n",
      "|           hk|pnpvxlyzfblc|    1|\n",
      "|           de|pzfmkpyxgbhb|    3|\n",
      "|           gb|   249092419|    1|\n",
      "|           pt|   249006060|    1|\n",
      "|           gb|   248303101|   11|\n",
      "|           gb|zxkrjpyxfbmc|    1|\n",
      "|           gb|ftmtdpyxgbfb|    1|\n",
      "+-------------+------------+-----+\n",
      "only showing top 20 rows\n",
      "\n"
     ]
    }
   ],
   "source": [
    "country_count = country_df.groupBy('group_country', 'event_id').count()\n",
    "country_count.show()"
   ]
  },
  {
   "cell_type": "code",
   "execution_count": 14,
   "metadata": {},
   "outputs": [
    {
     "name": "stdout",
     "output_type": "stream",
     "text": [
      "+-------+---+\n",
      "|country|max|\n",
      "+-------+---+\n",
      "|     cr|  2|\n",
      "|     us|122|\n",
      "|     eg|  6|\n",
      "|     ge|  4|\n",
      "|     il| 51|\n",
      "|     cl| 47|\n",
      "|     ro| 20|\n",
      "|     ba|  3|\n",
      "|     jp| 20|\n",
      "|     kw|  3|\n",
      "|     by|  7|\n",
      "|     lv|  5|\n",
      "|     vn|  4|\n",
      "|     pl| 71|\n",
      "|     cn| 18|\n",
      "|     za| 23|\n",
      "|     sk|  4|\n",
      "|     bd| 25|\n",
      "|     mu|  2|\n",
      "|     pt| 21|\n",
      "+-------+---+\n",
      "only showing top 20 rows\n",
      "\n"
     ]
    }
   ],
   "source": [
    "country_max = country_count.groupBy('group_country') \\\n",
    "    .agg(max('count').alias('max')) \\\n",
    "    .withColumnRenamed('group_country', 'country')\n",
    "country_max.show()"
   ]
  },
  {
   "cell_type": "code",
   "execution_count": 15,
   "metadata": {},
   "outputs": [
    {
     "name": "stdout",
     "output_type": "stream",
     "text": [
      "+-------+---------+---+\n",
      "|country|       id|max|\n",
      "+-------+---------+---+\n",
      "|     mt|247017657|  2|\n",
      "|     ae|249221874| 13|\n",
      "|     cd|248532148|  2|\n",
      "|     rw|248314612|  1|\n",
      "|     hk|249223168| 11|\n",
      "|     md|248571847|  8|\n",
      "|     li|249155290|  4|\n",
      "|     ec|248888214|  5|\n",
      "|     gh|248131180|  2|\n",
      "|     au|248205529| 28|\n",
      "|     ua|247766004| 16|\n",
      "|     de|249219430| 57|\n",
      "|     np|249124429|  7|\n",
      "|     bo|249192337| 10|\n",
      "|     se|249220929| 67|\n",
      "|     lk|249026348| 17|\n",
      "|     sk|249224454|  4|\n",
      "|     gh|248221282|  2|\n",
      "|     ke|248948227|  6|\n",
      "|     cr|248106326|  2|\n",
      "+-------+---------+---+\n",
      "only showing top 20 rows\n",
      "\n"
     ]
    }
   ],
   "source": [
    "country_most_popular_event = country_count.join(broadcast(country_max), \n",
    "                   (country_count.group_country == country_max.country) & \n",
    "                   (country_count['count'] == country_max['max']), 'inner') \\\n",
    "    .select('country', 'event_id', 'max')  \\\n",
    "    .withColumnRenamed('event_id', 'id')\n",
    "country_most_popular_event.show()"
   ]
  },
  {
   "cell_type": "code",
   "execution_count": 16,
   "metadata": {},
   "outputs": [
    {
     "name": "stdout",
     "output_type": "stream",
     "text": [
      "+-------+---------+---+-----+\n",
      "|country|       id|max|count|\n",
      "+-------+---------+---+-----+\n",
      "|     mt|247017657|  2|    2|\n",
      "|     ae|249221874| 13|  454|\n",
      "|     cd|248532148|  2|    2|\n",
      "|     rw|248314612|  1|    1|\n",
      "|     hk|249223168| 11|  533|\n",
      "|     md|248571847|  8|   11|\n",
      "|     li|249155290|  4|    4|\n",
      "|     ec|248888214|  5|    8|\n",
      "|     gh|248131180|  2|    9|\n",
      "|     au|248205529| 28| 2134|\n",
      "|     ua|247766004| 16|  120|\n",
      "|     de|249219430| 57| 2901|\n",
      "|     np|249124429|  7|   11|\n",
      "|     bo|249192337| 10|   37|\n",
      "|     se|249220929| 67|  509|\n",
      "|     lk|249026348| 17|   79|\n",
      "|     sk|249224454|  4|   13|\n",
      "|     gh|248221282|  2|    9|\n",
      "|     ke|248948227|  6|   48|\n",
      "|     cr|248106326|  2|    3|\n",
      "+-------+---------+---+-----+\n",
      "only showing top 20 rows\n",
      "\n"
     ]
    }
   ],
   "source": [
    "country_popular_event_and_total = country_most_popular_event.join(broadcast(country_total), \n",
    "                                country_most_popular_event.country == country_total.group_country) \\\n",
    "    .select('country', 'id', 'max', 'count')\n",
    "    \n",
    "country_popular_event_and_total.show()"
   ]
  },
  {
   "cell_type": "code",
   "execution_count": 17,
   "metadata": {},
   "outputs": [
    {
     "name": "stdout",
     "output_type": "stream",
     "text": [
      "+----------+-------------+-------------+--------------------+------------+-------------------+--------------------+--------------------+----------+---------+--------------------+-------+------------+---+-----+\n",
      "|     mdate|group_country|   group_city|          event_name|    event_id|         event_time|          venue_name|           event_url|       lon|      lat|              topics|country|          id|max|total|\n",
      "+----------+-------------+-------------+--------------------+------------+-------------------+--------------------+--------------------+----------+---------+--------------------+-------+------------+---+-----+\n",
      "|2018-03-29|           it|      Bologna|Hyperledger : Blo...|   249221467|2018-06-13 10:00:00|   Osteria La Frasca|https://www.meetu...| 11.327358| 44.49448|[Decentralized Sy...|     it|   249221467| 15|  470|\n",
      "|2018-03-29|           il|Tel Aviv-Yafo|Serverless meet E...|   248295491|2018-04-15 07:30:00|           Mindspace|https://www.meetu...|  34.77411|32.064617|[JavaScript, Java...|     il|   248295491| 51|  554|\n",
      "|2018-03-29|           ng|        Lagos|TensorFlow Dev Su...|   249147819|2018-04-07 02:00:00|CCHub (Co Creatio...|https://www.meetu...|  3.380809| 6.495044|[Software Develop...|     ng|   249147819| 71|  118|\n",
      "|2018-03-29|           so|    Mogadishu|Mahamoud Yusuf (E...|   248830681|2018-04-20 06:00:00|                null|https://www.meetu...|      null|     null|[Small Business, ...|     so|   248830681|  1|    1|\n",
      "|2018-03-29|           my| Kuala Lumpur|In Order of Disap...|   249219321|2018-04-03 05:51:00|           Pisco Bar|https://www.meetu...|101.708916| 3.148655|[Watching Movies,...|     my|   249219321|  9|  129|\n",
      "|2018-03-29|           mx|  Guadalajara|Patan Ale House—P...|   249200459|2018-03-31 14:00:00|     Patán Ale House|https://www.meetu...|-103.36449|20.675941|[Dining Out, Food...|     mx|   249200459|  7|  123|\n",
      "|2018-03-29|           tr|     Istanbul|Yapay Öğrenme Mod...|   249187907|2018-04-04 09:15:00|Bahçeşehir Üniver...|https://www.meetu...| 29.009247| 41.04224|[Artificial Intel...|     tr|   249187907| 63|  460|\n",
      "|2018-03-29|           by|      Homjel'|Google I/O Extend...|   249225075|2018-05-08 09:30:00|                null|https://www.meetu...|      null|     null|[Open Source, Sta...|     by|   249225075|  7|    7|\n",
      "|2018-03-29|           hk|    Hong Kong|Apr07(Sat)1+1 AB ...|   249223168|2018-04-07 00:00:00|瑞和街體育館( Shui Wo S...|https://www.meetu...|  114.1796|22.318567|[Outdoors, Recrea...|     hk|   249223168| 11|  533|\n",
      "|2018-03-29|           ae|        Dubai|Turkish lunch @t ...|   249221874|2018-04-09 03:00:00|   Zouzou restaurant|https://www.meetu...| 55.263676|25.232767|[Coffee, Moms, Wo...|     ae|   249221874| 13|  454|\n",
      "|2018-03-29|           ie|       Dublin|Intuitive Design ...|   249222953|2018-04-17 10:00:00|             WeWork |https://www.meetu...| -6.261952| 53.33247|[Information Arch...|     ie|   249222953| 44|  690|\n",
      "|2018-03-29|           do|Santo Domingo|Clase de Salsa y ...|qjkvmpyxgbfb|2018-04-03 16:00:00|   La Mochila Cowork|https://www.meetu...|-69.885994| 18.47233|[Web Design, Grap...|     do|qjkvmpyxgbfb|  3|    5|\n",
      "|2018-03-29|           ke|      Nairobi|Lean Coffee - Agi...|jrqbnpyxgbqb|2018-04-12 07:30:00|       Pete's Coffee|https://www.meetu...|   36.7876|-1.295094|[Scrum, Scaling A...|     ke|jrqbnpyxgbqb|  6|   48|\n",
      "|2018-03-29|           fi|     Helsinki|WordPress Meetup:...|nbnnjlyxgbgb|2018-04-04 07:30:00|      Microsoft Flux|https://www.meetu...| 24.946249|60.165237|[Open Source, Web...|     fi|nbnnjlyxgbgb| 26|  122|\n",
      "|2018-03-29|           hr|       Zagreb|Frontend Zg Meetu...|   249183426|2018-04-04 09:00:00|           Degordian|https://www.meetu...|  15.94591| 45.81459|[Front-end Develo...|     hr|   249183426| 72|  171|\n",
      "|2018-03-29|           us|       Boston|Scaling Bayesian ...|   249223271|2018-04-24 15:30:00|     McKinsey Boston|https://www.meetu...| -71.05255| 42.35357|[Statistical Comp...|     us|   249223271|122|39501|\n",
      "|2018-03-29|           fr|        Paris|L'UX dans les Jeu...|   249116543|2018-04-05 09:30:00|      Blade / Shadow|https://www.meetu...|  2.346829| 48.87063|[Web Design, Info...|     fr|   249116543|129| 2722|\n",
      "|2018-03-29|           ni|      Managua|Miércoles de Web ...|   249094407|2018-04-18 17:00:00|                null|https://www.meetu...|      null|     null|[Web Design, Word...|     ni|   249094407|  2|    2|\n",
      "|2018-03-29|           lu|   Luxembourg|JavaScript Meetup...|lfvxbpyxgbnb|2018-04-03 10:00:00|       Sfeir Benelux|https://www.meetu...|  6.076397|49.568172|[Open Source, Edu...|     lu|lfvxbpyxgbnb| 10|   45|\n",
      "|2018-03-29|           br|    São Paulo|#bluetalk Descubr...|   248661955|2018-04-10 15:30:00|                 IBM|https://www.meetu...|-46.649014|-23.57987|[Artificial Intel...|     br|   248661955| 84| 1098|\n",
      "+----------+-------------+-------------+--------------------+------------+-------------------+--------------------+--------------------+----------+---------+--------------------+-------+------------+---+-----+\n",
      "only showing top 20 rows\n",
      "\n"
     ]
    }
   ],
   "source": [
    "country_popular_event_detail_and_total = country_df.join(broadcast(country_popular_event_and_total), \n",
    "                country_df.event_id == country_popular_event_and_total.id).distinct() \\\n",
    "    .withColumnRenamed('count', 'total')\n",
    "\n",
    "country_popular_event_detail_and_total.show()"
   ]
  },
  {
   "cell_type": "code",
   "execution_count": 18,
   "metadata": {},
   "outputs": [
    {
     "name": "stdout",
     "output_type": "stream",
     "text": [
      "root\n",
      " |-- mdate: date (nullable = true)\n",
      " |-- group_country: string (nullable = true)\n",
      " |-- group_city: string (nullable = true)\n",
      " |-- event_name: string (nullable = true)\n",
      " |-- event_id: string (nullable = true)\n",
      " |-- event_time: timestamp (nullable = true)\n",
      " |-- venue_name: string (nullable = true)\n",
      " |-- event_url: string (nullable = true)\n",
      " |-- lon: float (nullable = true)\n",
      " |-- lat: float (nullable = true)\n",
      " |-- topics: array (nullable = true)\n",
      " |    |-- element: string (containsNull = true)\n",
      " |-- country: string (nullable = true)\n",
      " |-- id: string (nullable = true)\n",
      " |-- max: long (nullable = true)\n",
      " |-- total: long (nullable = false)\n",
      "\n"
     ]
    }
   ],
   "source": [
    "country_popular_event_detail_and_total.printSchema()"
   ]
  },
  {
   "cell_type": "code",
   "execution_count": 20,
   "metadata": {},
   "outputs": [
    {
     "name": "stdout",
     "output_type": "stream",
     "text": [
      "root\n",
      " |-- mdate: date (nullable = true)\n",
      " |-- group_country: string (nullable = true)\n",
      " |-- total: long (nullable = false)\n",
      " |-- group_city: string (nullable = true)\n",
      " |-- event_name: string (nullable = true)\n",
      " |-- event_id: string (nullable = true)\n",
      " |-- event_time: timestamp (nullable = true)\n",
      " |-- venue_name: string (nullable = true)\n",
      " |-- count: long (nullable = true)\n",
      " |-- event_url: string (nullable = true)\n",
      " |-- lon: float (nullable = true)\n",
      " |-- lat: float (nullable = true)\n",
      " |-- topics: array (nullable = true)\n",
      " |    |-- element: string (containsNull = true)\n",
      "\n"
     ]
    }
   ],
   "source": [
    "country_popular_event_detail_and_total_rename = country_popular_event_detail_and_total \\\n",
    "    .select('mdate', 'group_country', 'total', 'group_city', 'event_name', \n",
    "            'event_id', 'event_time', 'venue_name', 'max', 'event_url', 'lon',\n",
    "            'lat', 'topics') \\\n",
    "    .withColumnRenamed('max', 'count')\n",
    "country_popular_event_detail_and_total_rename.printSchema()"
   ]
  },
  {
   "cell_type": "code",
   "execution_count": 22,
   "metadata": {},
   "outputs": [],
   "source": [
    "country_popular_event_detail_and_total_rename.write\\\n",
    "    .format(\"org.apache.spark.sql.cassandra\")\\\n",
    "    .mode('append')\\\n",
    "    .options(table=\"world_stat_by_date\", keyspace=\"meetup_analysis\")\\\n",
    "    .save()"
   ]
  },
  {
   "cell_type": "code",
   "execution_count": null,
   "metadata": {},
   "outputs": [],
   "source": []
  }
 ],
 "metadata": {
  "kernelspec": {
   "display_name": "Python 3",
   "language": "python",
   "name": "python3"
  },
  "language_info": {
   "codemirror_mode": {
    "name": "ipython",
    "version": 3
   },
   "file_extension": ".py",
   "mimetype": "text/x-python",
   "name": "python",
   "nbconvert_exporter": "python",
   "pygments_lexer": "ipython3",
   "version": "3.6.5"
  }
 },
 "nbformat": 4,
 "nbformat_minor": 2
}
