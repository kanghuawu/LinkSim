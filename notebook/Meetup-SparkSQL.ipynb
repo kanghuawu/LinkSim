{
 "cells": [
  {
   "cell_type": "code",
   "execution_count": 1,
   "metadata": {},
   "outputs": [],
   "source": [
    "from pyspark.sql.types import *"
   ]
  },
  {
   "cell_type": "code",
   "execution_count": 2,
   "metadata": {},
   "outputs": [],
   "source": [
    "event = StructType([\n",
    "    StructField('event_id', StringType(), True),\n",
    "    StructField('event_name', StringType(), True),\n",
    "    StructField('event_url', StringType(), True),\n",
    "    StructField('time', LongType(), True)\n",
    "])\n",
    "group_topics = ArrayType(StructType([\n",
    "    StructField('urlkey', StringType(), True),\n",
    "    StructField('topic_name', StringType(), True)\n",
    "]))\n",
    "group = StructType([\n",
    "    StructField('group_city', StringType(), True),\n",
    "    StructField('group_country', StringType(), True),\n",
    "    StructField('group_id', IntegerType(), True),\n",
    "    StructField('group_name', StringType(), True),\n",
    "    StructField('group_lon', FloatType(), True),\n",
    "    StructField('group_lat', FloatType(), True),\n",
    "    StructField('group_urlname', StringType(), True),\n",
    "    StructField('group_state', StringType(), True),\n",
    "    StructField('group_topics', group_topics, True)\n",
    "])\n",
    "venue = StructType([\n",
    "    StructField('venue_name', StringType(), True),\n",
    "    StructField('lon', FloatType(), True),\n",
    "    StructField('lat', FloatType(), True),\n",
    "    StructField('venue_id', IntegerType(), True),\n",
    "])\n",
    "member = StructType([\n",
    "    StructField('member_id', IntegerType(), True),\n",
    "    StructField('photo', StringType(), True),\n",
    "    StructField('member_name', StringType(), True),\n",
    "])\n",
    "schema = StructType([\n",
    "    StructField('event', event, True),\n",
    "    StructField('group', group, True),\n",
    "    StructField('venue', venue, True),\n",
    "    StructField('visibility', StringType(), True),\n",
    "    StructField('response', StringType(), True),\n",
    "    StructField('guests', IntegerType(), True),\n",
    "    StructField('member', member, True),\n",
    "    StructField('rsvp_id', LongType(), True),\n",
    "    StructField('mtime', LongType(), True)\n",
    "])"
   ]
  },
  {
   "cell_type": "code",
   "execution_count": 3,
   "metadata": {},
   "outputs": [],
   "source": [
    "df = spark.read.json('file:///home/bondk/Data/2018-03-29_061608.json', schema)"
   ]
  },
  {
   "cell_type": "code",
   "execution_count": 4,
   "metadata": {},
   "outputs": [
    {
     "name": "stdout",
     "output_type": "stream",
     "text": [
      "root\n",
      " |-- event: struct (nullable = true)\n",
      " |    |-- event_id: string (nullable = true)\n",
      " |    |-- event_name: string (nullable = true)\n",
      " |    |-- event_url: string (nullable = true)\n",
      " |    |-- time: long (nullable = true)\n",
      " |-- group: struct (nullable = true)\n",
      " |    |-- group_city: string (nullable = true)\n",
      " |    |-- group_country: string (nullable = true)\n",
      " |    |-- group_id: integer (nullable = true)\n",
      " |    |-- group_name: string (nullable = true)\n",
      " |    |-- group_lon: float (nullable = true)\n",
      " |    |-- group_lat: float (nullable = true)\n",
      " |    |-- group_urlname: string (nullable = true)\n",
      " |    |-- group_state: string (nullable = true)\n",
      " |    |-- group_topics: array (nullable = true)\n",
      " |    |    |-- element: struct (containsNull = true)\n",
      " |    |    |    |-- urlkey: string (nullable = true)\n",
      " |    |    |    |-- topic_name: string (nullable = true)\n",
      " |-- venue: struct (nullable = true)\n",
      " |    |-- venue_name: string (nullable = true)\n",
      " |    |-- lon: float (nullable = true)\n",
      " |    |-- lat: float (nullable = true)\n",
      " |    |-- venue_id: integer (nullable = true)\n",
      " |-- visibility: string (nullable = true)\n",
      " |-- response: string (nullable = true)\n",
      " |-- guests: integer (nullable = true)\n",
      " |-- member: struct (nullable = true)\n",
      " |    |-- member_id: integer (nullable = true)\n",
      " |    |-- photo: string (nullable = true)\n",
      " |    |-- member_name: string (nullable = true)\n",
      " |-- rsvp_id: long (nullable = true)\n",
      " |-- mtime: long (nullable = true)\n",
      "\n"
     ]
    }
   ],
   "source": [
    "df.printSchema()"
   ]
  },
  {
   "cell_type": "code",
   "execution_count": 5,
   "metadata": {},
   "outputs": [
    {
     "name": "stdout",
     "output_type": "stream",
     "text": [
      "/home/bondk/Data/country_code.csv file already exist\n"
     ]
    }
   ],
   "source": [
    "def download_file(dir, url):\n",
    "    import urllib.request\n",
    "    import os.path\n",
    "    if os.path.exists(dir):\n",
    "        print(dir, 'file already exist')\n",
    "    else:\n",
    "        urllib.request.urlretrieve(url, dir)\n",
    "        print('File saved to', dir)\n",
    "\n",
    "url = 'https://pkgstore.datahub.io/core/country-list/data_csv/data/d7c9d7cfb42cb69f4422dec222dbbaa8/data_csv.csv'\n",
    "dir = '/home/bondk/Data/country_code.csv'\n",
    "download_file(dir, url)"
   ]
  },
  {
   "cell_type": "code",
   "execution_count": 6,
   "metadata": {},
   "outputs": [
    {
     "name": "stdout",
     "output_type": "stream",
     "text": [
      "+-------------------+----+----------+\n",
      "|               Name|Code|Code_Lower|\n",
      "+-------------------+----+----------+\n",
      "|        Afghanistan|  AF|        af|\n",
      "|      Åland Islands|  AX|        ax|\n",
      "|            Albania|  AL|        al|\n",
      "|            Algeria|  DZ|        dz|\n",
      "|     American Samoa|  AS|        as|\n",
      "|            Andorra|  AD|        ad|\n",
      "|             Angola|  AO|        ao|\n",
      "|           Anguilla|  AI|        ai|\n",
      "|         Antarctica|  AQ|        aq|\n",
      "|Antigua and Barbuda|  AG|        ag|\n",
      "|          Argentina|  AR|        ar|\n",
      "|            Armenia|  AM|        am|\n",
      "|              Aruba|  AW|        aw|\n",
      "|          Australia|  AU|        au|\n",
      "|            Austria|  AT|        at|\n",
      "|         Azerbaijan|  AZ|        az|\n",
      "|            Bahamas|  BS|        bs|\n",
      "|            Bahrain|  BH|        bh|\n",
      "|         Bangladesh|  BD|        bd|\n",
      "|           Barbados|  BB|        bb|\n",
      "+-------------------+----+----------+\n",
      "only showing top 20 rows\n",
      "\n"
     ]
    }
   ],
   "source": [
    "from pyspark.sql.functions import *\n",
    "country_code = spark.read \\\n",
    "    .option('header', 'true') \\\n",
    "    .option('inferSchema', value=True) \\\n",
    "    .csv('file://' + dir) \\\n",
    "    \n",
    "country_code_lower = country_code.withColumn('Code_Lower', lower(country_code['Code']))\n",
    "country_code_lower.show()"
   ]
  },
  {
   "cell_type": "code",
   "execution_count": 7,
   "metadata": {},
   "outputs": [
    {
     "name": "stdout",
     "output_type": "stream",
     "text": [
      "+------------------+-----+----------+\n",
      "|              Name|count|Code_Lower|\n",
      "+------------------+-----+----------+\n",
      "|     United States|48529|        us|\n",
      "|    United Kingdom|10879|        gb|\n",
      "|            Canada| 4838|        ca|\n",
      "|             Spain| 3585|        es|\n",
      "|           Germany| 3560|        de|\n",
      "|            France| 3478|        fr|\n",
      "|         Australia| 2688|        au|\n",
      "|             India| 2604|        in|\n",
      "|       Netherlands| 1832|        nl|\n",
      "|            Brazil| 1296|        br|\n",
      "|         Singapore| 1282|        sg|\n",
      "|             Japan| 1261|        jp|\n",
      "|            Poland| 1121|        pl|\n",
      "|           Ireland|  861|        ie|\n",
      "|Korea, Republic of|  762|        kr|\n",
      "|       Switzerland|  704|        ch|\n",
      "|         Hong Kong|  682|        hk|\n",
      "|            Israel|  600|        il|\n",
      "|            Sweden|  591|        se|\n",
      "|            Turkey|  581|        tr|\n",
      "+------------------+-----+----------+\n",
      "\n"
     ]
    }
   ],
   "source": [
    "count = df.groupBy('group.group_country').count().orderBy('count', ascending=False)\n",
    "count_country_name = count.join(country_code_lower, count.group_country == country_code_lower.Code_Lower, 'left') \\\n",
    "    .select('Name', 'count', 'Code_Lower').limit(20)\n",
    "count_country_name.show()"
   ]
  },
  {
   "cell_type": "code",
   "execution_count": 8,
   "metadata": {},
   "outputs": [],
   "source": [
    "%matplotlib inline\n",
    "import matplotlib.pyplot as plt\n",
    "import numpy as np"
   ]
  },
  {
   "cell_type": "code",
   "execution_count": 9,
   "metadata": {},
   "outputs": [
    {
     "data": {
      "text/plain": [
       "<matplotlib.axes._subplots.AxesSubplot at 0x7f4d3c10bc18>"
      ]
     },
     "execution_count": 9,
     "metadata": {},
     "output_type": "execute_result"
    },
    {
     "data": {
      "image/png": "[encoded data removed]",
      "text/plain": [
       "<Figure size 432x288 with 1 Axes>"
      ]
     },
     "metadata": {},
     "output_type": "display_data"
    }
   ],
   "source": [
    "count_country_name.toPandas().set_index('Name').plot(kind='barh')"
   ]
  },
  {
   "cell_type": "code",
   "execution_count": 10,
   "metadata": {},
   "outputs": [
    {
     "name": "stdout",
     "output_type": "stream",
     "text": [
      "+-----------+-----+\n",
      "|group_state|count|\n",
      "+-----------+-----+\n",
      "|         CA| 8696|\n",
      "|         NY| 5618|\n",
      "|         TX| 3377|\n",
      "|         FL| 3166|\n",
      "|         IL| 1913|\n",
      "|         MA| 1897|\n",
      "|         NC| 1852|\n",
      "|         PA| 1816|\n",
      "|         CO| 1811|\n",
      "|         VA| 1755|\n",
      "|         GA| 1367|\n",
      "|         DC| 1337|\n",
      "|         WA| 1333|\n",
      "|         OH| 1202|\n",
      "|         NJ| 1195|\n",
      "|         AZ| 1125|\n",
      "|         OR| 1044|\n",
      "|         MD|  948|\n",
      "|         MI|  904|\n",
      "|         MN|  662|\n",
      "+-----------+-----+\n",
      "\n"
     ]
    }
   ],
   "source": [
    "count_state_name = df.filter(df['group.group_country'] == 'us').groupBy('group.group_state').count().orderBy('count', ascending=False).limit(20)\n",
    "count_state_name.show()"
   ]
  },
  {
   "cell_type": "code",
   "execution_count": 11,
   "metadata": {},
   "outputs": [
    {
     "data": {
      "text/plain": [
       "<matplotlib.axes._subplots.AxesSubplot at 0x7f4d3475fe10>"
      ]
     },
     "execution_count": 11,
     "metadata": {},
     "output_type": "execute_result"
    },
    {
     "data": {
      "image/png": "[encoded data removed]",
      "text/plain": [
       "<Figure size 432x288 with 1 Axes>"
      ]
     },
     "metadata": {},
     "output_type": "display_data"
    }
   ],
   "source": [
    "count_state_name.toPandas().set_index('group_state').plot(kind='barh', legend=None)"
   ]
  },
  {
   "cell_type": "code",
   "execution_count": 12,
   "metadata": {},
   "outputs": [
    {
     "name": "stdout",
     "output_type": "stream",
     "text": [
      "+-------------+-----+\n",
      "|   group_city|count|\n",
      "+-------------+-----+\n",
      "|San Francisco| 1315|\n",
      "|  Los Angeles| 1013|\n",
      "|    San Diego|  791|\n",
      "|     San Jose|  329|\n",
      "|   Sacramento|  305|\n",
      "|       Irvine|  252|\n",
      "|      Oakland|  198|\n",
      "|    Palo Alto|  179|\n",
      "|Mountain View|  163|\n",
      "| Santa Monica|  144|\n",
      "|  Santa Clara|  139|\n",
      "|    Sunnyvale|  132|\n",
      "|     Berkeley|  119|\n",
      "|Santa Barbara|   88|\n",
      "|   Santa Rosa|   85|\n",
      "|   Long Beach|   79|\n",
      "|Mission Viejo|   77|\n",
      "|   Santa Cruz|   71|\n",
      "|     Pasadena|   71|\n",
      "|   Carmichael|   66|\n",
      "+-------------+-----+\n",
      "\n"
     ]
    }
   ],
   "source": [
    "count_CA_city_name = df.filter(df['group.group_country'] == 'us').filter(df['group.group_state'] == 'CA').groupBy('group.group_city').count().orderBy('count', ascending=False).limit(20)\n",
    "count_CA_city_name.show()"
   ]
  },
  {
   "cell_type": "code",
   "execution_count": 13,
   "metadata": {},
   "outputs": [],
   "source": [
    "def get_tags(topics):\n",
    "    return topics.asDict()['urlkey'] if topics.asDict() else []\n",
    "\n",
    "hot_topics = df.select('group.group_topics.urlkey') \\\n",
    "    .rdd.flatMap(lambda row: get_tags(row)) \\\n",
    "    .map(lambda topic: (topic, 1)) \\\n",
    "    .reduceByKey(lambda x, y: x + y) \\\n",
    "    .sortBy(lambda x: x[1], ascending=False) \\\n",
    "    .toDF(['Topic', 'Count']) \\\n",
    "    .persist()"
   ]
  },
  {
   "cell_type": "code",
   "execution_count": 14,
   "metadata": {},
   "outputs": [
    {
     "name": "stdout",
     "output_type": "stream",
     "text": [
      "19705\n"
     ]
    }
   ],
   "source": [
    "print(hot_topics.count())"
   ]
  },
  {
   "cell_type": "code",
   "execution_count": 15,
   "metadata": {},
   "outputs": [
    {
     "name": "stdout",
     "output_type": "stream",
     "text": [
      "+-----------------------+-----+\n",
      "|Topic                  |Count|\n",
      "+-----------------------+-----+\n",
      "|social                 |15523|\n",
      "|socialnetwork          |14513|\n",
      "|newintown              |14032|\n",
      "|outdoors               |12349|\n",
      "|softwaredev            |12176|\n",
      "|fun-times              |11939|\n",
      "|computer-programming   |9566 |\n",
      "|entrepreneurship       |9506 |\n",
      "|web-development        |9456 |\n",
      "|newtech                |9451 |\n",
      "|hiking                 |9317 |\n",
      "|self-improvement       |8678 |\n",
      "|opensource             |8627 |\n",
      "|adventure              |8467 |\n",
      "|professional-networking|8441 |\n",
      "|diningout              |8344 |\n",
      "|fitness                |7689 |\n",
      "|excercise              |7448 |\n",
      "|singles                |7148 |\n",
      "|web                    |7135 |\n",
      "+-----------------------+-----+\n",
      "only showing top 20 rows\n",
      "\n"
     ]
    }
   ],
   "source": [
    "hot_topics.show(truncate=False)"
   ]
  },
  {
   "cell_type": "code",
   "execution_count": 16,
   "metadata": {
    "scrolled": true
   },
   "outputs": [
    {
     "name": "stdout",
     "output_type": "stream",
     "text": [
      "+-------------------------------------------------------------------------------+-------------+-------------+-----+\n",
      "|event_name                                                                     |group_country|group_city   |count|\n",
      "+-------------------------------------------------------------------------------+-------------+-------------+-----+\n",
      "|17th Deep Learning Meetup in Vienna                                            |at           |Vienna       |190  |\n",
      "|L'UX dans les Jeux vidéo                                                       |fr           |Paris        |134  |\n",
      "|Scaling Bayesian inference by constructing approximating exponential families  |us           |Boston       |124  |\n",
      "|vodQA 18th Edition: Security Testing 101 - Hack. Secure. Repeat.               |in           |Chennai      |92   |\n",
      "|SciPy-SP #7 + Data Science                                                     |br           |São Paulo    |92   |\n",
      "|The Spring Edition 🌱 WebAssembly, JS Blockchain, NativeScript                 |nl           |Amsterdam    |86   |\n",
      "|A Project Leadership vajon mi?                                                 |hu           |Budapest     |77   |\n",
      "|#bluetalk Descubra com a IBM porque Blockchain trará uma revolução ao mercado  |br           |São Paulo    |76   |\n",
      "|OTAB | Orlando Tech Community Networking                                       |us           |Orlando      |75   |\n",
      "|Frontend Zg Meetup in Degordian, April 4th                                     |hr           |Zagreb       |74   |\n",
      "|DigitalOcean TIDE Conference                                                   |in           |Bangalore    |74   |\n",
      "|Szczecin PHP Meetup #7                                                         |pl           |Szczecin     |73   |\n",
      "|TensorFlow Dev Summit 2018 (Extended Viewing Party)                            |ng           |Lagos        |71   |\n",
      "|Machine Learning Trends and Model Tracking with Analytics in Mind              |se           |Stockholm    |70   |\n",
      "|ProductTank April : User Research                                              |fr           |Paris        |70   |\n",
      "|Yapay Öğrenme Modelleri Geliştirirken Karşılaşılan Sorunlar & Çözümleri        |tr           |Istanbul     |67   |\n",
      "|Google I/O Extended Barcelona (Wallapop) #io18extended                         |es           |Barcelona    |67   |\n",
      "|Sales Hacking Meetup #4 - Wyzwania sprzedaży B2B                               |pl           |Warsaw       |66   |\n",
      "|Google I/O Extended 2018                                                       |pl           |Wroclaw      |62   |\n",
      "|Munich Datageeks - March Edition                                               |de           |München      |62   |\n",
      "|Innovation and boundaries: Hitchhiker’s guide to the corporate world           |nl           |Amsterdam    |61   |\n",
      "|LI-DOG Pack Walk™ at Old Westbury Gardens Spring Dog Festival!                 |us           |Huntington   |61   |\n",
      "|Flutter meetup                                                                 |es           |Barcelona    |60   |\n",
      "|Value First- How to Deliver Projects On-Time, Under-Budget and to High-Quality.|de           |München      |59   |\n",
      "|Twilio special – immutable instances, separating legacy code and more          |ee           |Tallinn      |58   |\n",
      "|Serverless meet Event-Sourcing                                                 |il           |Tel Aviv-Yafo|57   |\n",
      "|E2E Testing: un enfoque práctico + Building an Open Source product             |es           |Alicante     |56   |\n",
      "|Montréal-Python 70 - Atomic Zucchini / Zucchini Atomique                       |ca           |Montréal     |55   |\n",
      "|Python Saati #50                                                               |tr           |Istanbul     |54   |\n",
      "|PyData NYC Sprint Night: python-dateutil                                       |us           |New York     |54   |\n",
      "|Intelligent Graphs: A Look at the Future of Enterprise AI                      |us           |Washington   |53   |\n",
      "|📣 Full Day Workshop 👉 18-24% R.O.I. 💰TAX LIENS with ⏰ Ted Thomas            |us           |Alexandria   |52   |\n",
      "|Meetup #16: Real-time Data Pipelines with Apache Kafka & Topic to be Announced |in           |Bangalore    |52   |\n",
      "|Uber HYD Engineering Tech Talk Series                                          |in           |Hyderabad    |52   |\n",
      "|[Online]BDD (Behavior-Driven Development): testes com uma linguagem amigável   |br           |São Paulo    |51   |\n",
      "|Android Meetup #56                                                             |br           |São Paulo    |51   |\n",
      "|Coffee and Conversation at Mariano's - April 5th - Wheaton                     |us           |Glen Ellyn   |49   |\n",
      "|April - Jusef Belkasemi & Katie Fenn                                           |gb           |Leeds        |49   |\n",
      "|Python Belgrade Meetup #17                                                     |rs           |Belgrade     |49   |\n",
      "|A​ ​craftsman’s​ ​guide​ ​to​ ​designing​ ​a​ ​clean architecture              |gb           |London       |49   |\n",
      "+-------------------------------------------------------------------------------+-------------+-------------+-----+\n",
      "only showing top 40 rows\n",
      "\n"
     ]
    }
   ],
   "source": [
    "df.select('event.event_id', 'event.event_name', 'group.group_country', 'group.group_city') \\\n",
    "    .groupBy('event_id', 'event_name', 'group_country', 'group_city') \\\n",
    "    .count() \\\n",
    "    .select('event_name', 'group_country', 'group_city', 'count') \\\n",
    "    .orderBy('count', ascending=False) \\\n",
    "    .show(40, truncate=False)"
   ]
  },
  {
   "cell_type": "code",
   "execution_count": 17,
   "metadata": {},
   "outputs": [
    {
     "name": "stdout",
     "output_type": "stream",
     "text": [
      "+-----------+------------+-----+\n",
      "|group_state|    event_id|count|\n",
      "+-----------+------------+-----+\n",
      "|         FL|mjzgwmyxgbgb|    2|\n",
      "|         TX|cbdjlpyxfbpc|    2|\n",
      "|         TX|   248083232|    5|\n",
      "|         CA|bjtcxlyxgbcc|    3|\n",
      "|         CA|srwxlpyxgbnb|    1|\n",
      "|         OR|scmmmpyxgbfb|    1|\n",
      "|         MI|   248205167|    6|\n",
      "|         GA|rmbhlpyxgbfb|    3|\n",
      "|         CA|   249220439|    1|\n",
      "|         FL|   245892749|    2|\n",
      "|         SC|   246245073|    1|\n",
      "|         NV|   249111620|    2|\n",
      "|         MD|cmnjmlyxfbmc|    1|\n",
      "|         DC|   249135584|    2|\n",
      "|         OH|lwzxxnyxgbwb|    2|\n",
      "|         PA|jcrvmpyxgbxb|    1|\n",
      "|         PA|jsnvmpyxjbvb|    1|\n",
      "|         OH|   248749795|    1|\n",
      "|         DC|   248197470|    1|\n",
      "|         FL|   249191026|    1|\n",
      "+-----------+------------+-----+\n",
      "only showing top 20 rows\n",
      "\n"
     ]
    }
   ],
   "source": [
    "state_count = df.select('group.group_country', 'group.group_state', 'event.event_id') \\\n",
    "    .filter(df['group.group_country'] == 'us') \\\n",
    "    .groupBy('group_state', 'event_id') \\\n",
    "    .count()\n",
    "state_count.show()"
   ]
  },
  {
   "cell_type": "code",
   "execution_count": 18,
   "metadata": {},
   "outputs": [
    {
     "name": "stdout",
     "output_type": "stream",
     "text": [
      "+-----+---+\n",
      "|state|max|\n",
      "+-----+---+\n",
      "|   SC|  6|\n",
      "|   AZ| 19|\n",
      "|   LA| 10|\n",
      "|   MN| 23|\n",
      "|   NJ| 24|\n",
      "|   DC| 53|\n",
      "|   OR| 18|\n",
      "|   VA| 52|\n",
      "|   RI| 27|\n",
      "|   KY|  8|\n",
      "|   WY|  2|\n",
      "|   NH|  7|\n",
      "|   MI| 16|\n",
      "|   NV| 15|\n",
      "|   WI| 18|\n",
      "|   ID|  8|\n",
      "|   CA| 43|\n",
      "|   CT| 16|\n",
      "|   NE|  6|\n",
      "|   MT|  4|\n",
      "+-----+---+\n",
      "only showing top 20 rows\n",
      "\n"
     ]
    }
   ],
   "source": [
    "state_max = state_count.groupBy('group_state').agg(max('count').alias('max')).withColumnRenamed('group_state', 'state')\n",
    "state_max.show()"
   ]
  },
  {
   "cell_type": "code",
   "execution_count": 19,
   "metadata": {},
   "outputs": [
    {
     "name": "stdout",
     "output_type": "stream",
     "text": [
      "+-----+---+-----------+------------+-----+\n",
      "|state|max|group_state|    event_id|count|\n",
      "+-----+---+-----------+------------+-----+\n",
      "|   MT|  4|         MT|   249231873|    4|\n",
      "|   NC| 33|         NC|   249228190|   33|\n",
      "|   NM| 10|         NM|   249211997|   10|\n",
      "|   MN| 23|         MN|   248891870|   23|\n",
      "|   MI| 16|         MI|xbpngpyxgbfb|   16|\n",
      "|   NE|  6|         NE|xljlcpyxgbgb|    6|\n",
      "|   NE|  6|         NE|   247836936|    6|\n",
      "|   NE|  6|         NE|   247566434|    6|\n",
      "|   AZ| 19|         AZ|   249227943|   19|\n",
      "|   MA|124|         MA|   249223271|  124|\n",
      "|   NJ| 24|         NJ|   249232173|   24|\n",
      "|   OK| 14|         OK|   249223984|   14|\n",
      "|   CA| 43|         CA|   249231735|   43|\n",
      "|   VT|  4|         VT|   247085539|    4|\n",
      "|   VT|  4|         VT|   248805600|    4|\n",
      "|   GA| 17|         GA|pvzlxlyxgbxb|   17|\n",
      "|   AL| 29|         AL|   249227319|   29|\n",
      "|   KY|  8|         KY|   248453531|    8|\n",
      "|   WY|  2|         WY|pfvjlpyxgbvb|    2|\n",
      "|   VA| 52|         VA|   249225507|   52|\n",
      "+-----+---+-----------+------------+-----+\n",
      "only showing top 20 rows\n",
      "\n"
     ]
    }
   ],
   "source": [
    "state_max_event_id = state_max.join(state_count,\n",
    "                                    (state_max['max'] == state_count['count']) \n",
    "                                    & (state_max.state == state_count.group_state), 'inner')\n",
    "state_max_event_id.show()"
   ]
  },
  {
   "cell_type": "code",
   "execution_count": 20,
   "metadata": {},
   "outputs": [
    {
     "name": "stdout",
     "output_type": "stream",
     "text": [
      "+-----+---+-------------------------------------------------------------------------------+----------+\n",
      "|state|max|event_name                                                                     |time      |\n",
      "+-----+---+-------------------------------------------------------------------------------+----------+\n",
      "|AK   |5  |Hack Night                                                                     |2018-04-03|\n",
      "|AL   |29 |Artificial Intelligence and Python                                             |2018-05-08|\n",
      "|AP   |4  |Join Thursday \"Open Mic\"  &  Friday \"Oldies\" w/food, wine and conversatioin    |2018-03-30|\n",
      "|AR   |5  |Python User Group of Central Arkansas Monthly Meeting                          |2018-03-29|\n",
      "|AZ   |19 |90s Theme Bar Crawl - Old Town Scottsdale - April 14, 2018                     |2018-04-14|\n",
      "|CA   |43 |Why Comedy Matters                                                             |2018-04-01|\n",
      "|CO   |18 | We Buy Houses: Nobody Cares - Brooks O'Hearn                                  |2018-03-29|\n",
      "|CO   |18 |April 2018 SQuAD Meetup -The Path to Continuous Testing                        |2018-04-10|\n",
      "|CT   |16 |Early Dance Party at Molly Darcys!                                             |2018-03-30|\n",
      "|DC   |53 |Intelligent Graphs: A Look at the Future of Enterprise AI                      |2018-04-11|\n",
      "|DE   |3  |The Rehoboth LGBT Prom at Camp Rehoboth                                        |2018-04-07|\n",
      "|FL   |75 |OTAB | Orlando Tech Community Networking                                       |2018-03-29|\n",
      "|GA   |17 |Large Scale Ionic/Angular Applications presented by Bryan Oliver               |2018-04-18|\n",
      "|HI   |11 |Hike Manoa Falls                                                               |2018-04-28|\n",
      "|IA   |12 |2018 VegFest of Eastern Iowa --SAVE THE DATE!                                  |2018-09-29|\n",
      "|ID   |8  |coffee, chat and more.                                                         |2018-03-31|\n",
      "|IL   |49 |Coffee and Conversation at Mariano's - April 5th - Wheaton                     |2018-04-05|\n",
      "|IN   |17 |Code-along / demo Vue.js; Also: ES2015 & Beyond!                               |2018-04-23|\n",
      "|KS   |6  |Happy Hour/Small Plates at BlueStem!                                           |2018-04-05|\n",
      "|KY   |8  |Jim Madison: A Printed Journey of Highs and Lows                               |2018-03-29|\n",
      "|LA   |10 |New Orleans Film Industry Meetup                                               |2018-04-03|\n",
      "|MA   |124|Scaling Bayesian inference by constructing approximating exponential families  |2018-04-24|\n",
      "|MD   |15 |Deals Meetup: Find Great Deals * Pitch Your Deals * Network, Partner, Invest...|2018-04-04|\n",
      "|ME   |12 |March Social / Meet & Greet at BWW's                                           |2018-03-29|\n",
      "|MI   |16 |TCNewTech Meetup                                                               |2018-04-03|\n",
      "|MN   |23 |Board Game Silent Auction & Game Party                                         |2018-04-08|\n",
      "|MO   |23 |Underground Railroad Walking tour in Alton, IL                                 |2018-10-14|\n",
      "|MS   |3  |Dungeon Delve and Wings Group #1                                               |2018-04-07|\n",
      "|MT   |4  |Mile High Innovation Network                                                   |2018-04-19|\n",
      "|NC   |33 |Awaze (Ethiopian/Eritrean)                                                     |2018-04-24|\n",
      "|ND   |3  |Automate Your Home With Home Assistant                                         |2018-03-29|\n",
      "|NE   |6  |NebraskaProduct | Meetup 2 | Andrew Brinkman                                   |2018-04-11|\n",
      "|NE   |6  |Mobile Design with Sean Davis                                                  |2018-04-04|\n",
      "|NE   |6  |Bootiful Testing                                                               |2018-03-29|\n",
      "|NH   |7  |IGDA NH Presents: Trevor Stricker - Games for Mental Health                    |2018-04-17|\n",
      "|NJ   |24 |Wednesday Open Gym                                                             |2018-04-04|\n",
      "|NM   |10 |Jeannie's 55 on 5-5                                                            |2018-05-05|\n",
      "|NV   |15 |5th ANNUAL BIG BAD JEEP SHOW!                                                  |2018-05-12|\n",
      "|NY   |61 |LI-DOG Pack Walk™ at Old Westbury Gardens Spring Dog Festival!                 |2018-04-21|\n",
      "|OH   |17 |3000 Mile Hike Going From Massachusetts To California                          |2018-03-31|\n",
      "|OH   |17 |Cleveland Big Data Meetup                                                      |2018-05-22|\n",
      "|OK   |14 |Lightworkers! ARE YOU READY FOR THE FUTURE?                                    |2018-04-03|\n",
      "|OR   |18 |Sex Differences, Alcohol, and Decision Making with Dr. Kathryn Wallin-Miller   |2018-04-19|\n",
      "|PA   |27 |Introduction to Text Mining with R                                             |2018-04-19|\n",
      "|PR   |3  |Government Blockchain Association - Healthcare and Medical                     |2018-04-05|\n",
      "|RI   |27 |:::Fast Pace Snake Den:::                                                      |2018-03-31|\n",
      "|SC   |6  |freeCodeCamp Greenville                                                        |2018-03-29|\n",
      "|SD   |3  |Basement Dwellers Improv Show                                                  |2018-03-29|\n",
      "|TN   |25 |Productive Front End Test Driven Development That ACTUALLY Works               |2018-04-04|\n",
      "|TX   |25 |F2D Monthly Happy Hour: Sponsored by The Knot                                  |2018-04-19|\n",
      "|UT   |26 |Jared Spool: Its a Great Time to be a UX Designer                              |2018-04-27|\n",
      "|VA   |52 |📣 Full Day Workshop 👉 18-24% R.O.I. 💰TAX LIENS with ⏰ Ted Thomas            |2018-04-07|\n",
      "|VT   |4  |Networking Meeting                                                             |2018-04-10|\n",
      "|VT   |4  |Web Authentication                                                             |2018-04-04|\n",
      "|WA   |30 |Addicted To ROI: How To Renovate Your Rental Properties Like A Boss            |2018-05-30|\n",
      "|WI   |18 |AL D&D Saturday @ Misty Mountain Games                                         |2018-03-30|\n",
      "|WI   |18 |AL D&D Saturday @ Misty Mountain Games                                         |2018-04-28|\n",
      "|WV   |3  |Monthly Photography Club Meeting                                               |2018-04-03|\n",
      "|WV   |3  |Richwood Scientific - Programming Bootcamp / Ladies Only - Late Winter 2018    |2018-04-03|\n",
      "|WY   |2  |Join us for Real Estate discussions on the Cheyenne market                     |2018-04-16|\n",
      "+-----+---+-------------------------------------------------------------------------------+----------+\n",
      "\n"
     ]
    }
   ],
   "source": [
    "popular_event_by_state = df.join(broadcast(state_max_event_id), \n",
    "                                 (state_max_event_id.group_state == df.group.group_state) \n",
    "                                 & (state_max_event_id.event_id == df.event.event_id), 'inner')\n",
    "\n",
    "popular_event_by_state.select('state', 'max', 'event.event_name', 'event.time') \\\n",
    "    .orderBy('state', 'max') \\\n",
    "    .distinct() \\\n",
    "    .withColumn('time', from_unixtime(col('time')/1000, format='yyyy-MM-dd')) \\\n",
    "    .show(100, truncate=False)"
   ]
  }
 ],
 "metadata": {
  "kernelspec": {
   "display_name": "Python 3",
   "language": "python",
   "name": "python3"
  },
  "language_info": {
   "codemirror_mode": {
    "name": "ipython",
    "version": 3
   },
   "file_extension": ".py",
   "mimetype": "text/x-python",
   "name": "python",
   "nbconvert_exporter": "python",
   "pygments_lexer": "ipython3",
   "version": "3.6.5"
  }
 },
 "nbformat": 4,
 "nbformat_minor": 2
}
